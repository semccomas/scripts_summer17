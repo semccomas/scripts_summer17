{
 "cells": [
  {
   "cell_type": "code",
   "execution_count": 548,
   "metadata": {
    "collapsed": false
   },
   "outputs": [],
   "source": [
    "# %load ../scripts_summer17/find_insect.py\n",
    "### there will be 3 input files to this script. 1st is the alignment file. 2nd is the uniprot database for insects, 3rd is the uniprot identifiers \n",
    "#typical fasta file = >Metazoa|a|sp|C9D7C2|CAC1A_APIME/4-186 Voltage-dependent calcium channel type A subunit alpha-1 OS=Apis mellifera GN=CAC PE=2 SV=1\n",
    "#this is for honeybee btw\n",
    "#the thing they have in common is the taxon code \n",
    "#also for uniprot I removed the rightmost column in excel because i didn't want to figure how to do that otherwise it wasa mess\n",
    "#insects i removed the uniprot headers before parsing here so that it was easy for pandas to read\n",
    "\n",
    "import pandas as pd \n",
    "import numpy as np \n",
    "fasta = open('../Marina_USB/seqs/final.TM.taxa.annotated.Metazoa+Fungi+PSEUDO.fa').read().splitlines()   #find out how to do absolute path cause this bugs me\n",
    "#fasta= open('../Marina_USB/seqs/test.txt').read().splitlines()\n",
    "uniprot = open('speclist_new.txt').read().splitlines()\n",
    "insects = pd.read_csv('../Marina_USB/insects_uniprot.tab', sep = '\\t')\n",
    "insects = insects.drop(['Mnemonic','Synonym', 'Reviewed', 'Rank', 'Lineage', 'Common name', 'Other Names', 'Virus hosts'], axis = 1)\n"
   ]
  },
  {
   "cell_type": "code",
   "execution_count": 549,
   "metadata": {
    "collapsed": false
   },
   "outputs": [],
   "source": [
    "#parsing the uniprot file which was kind of a mess. It was a text file with somewhat column-like structure but a ton of missing values\n",
    "#was tab deliminated so that is why split by tab\n",
    "## parsing the uniprot speclist. It is kind of a funky dataset so the first for loop is filtering out the things I dont need and making the data\n",
    "#easier to parse in a DF. \n",
    "uniprot_speclist = []\n",
    "for line in uniprot:\n",
    "    line = line.split()\n",
    "    if len(line) >= 4 and len(line[1]) == 1:\n",
    "        line = ' '.join(line)   #basically trying to keep the word in N=<species> together. will get split after again now that we have filtered\n",
    "        line = line.split(': ')\n",
    "        uniprot_speclist.append(line)\n",
    "\n",
    "        \n",
    "uniprot_speclist = pd.DataFrame(uniprot_speclist)\n",
    "u_s_split = uniprot_speclist.iloc[:,0].str.split().tolist()   #split so that the code and taxon will be separate\n",
    "u_s_split = pd.DataFrame(u_s_split)\n",
    "u_s_split = u_s_split[[0,1,2]]   #there were some byproducts\n",
    "\n",
    "\n",
    "uniprot_clean = pd.concat([u_s_split, uniprot_speclist], axis = 1) #join the two together again and remove the extra column\n",
    "uniprot_clean.columns = ['Code', 'x', 'Taxon', 'Delete','Species']   #renaming for clarity\n",
    "uniprot_clean = uniprot_clean.drop(['x', 'Delete'], axis = 1) #dropping some for clarity\n",
    "uniprot_clean['Taxon'] = uniprot_clean['Taxon'].map(lambda x: x.rstrip(':'))  #remove the : that was at the end of all vals\n",
    "uniprot_clean['Taxon'] = uniprot_clean['Taxon'].map(lambda x: x.rstrip(':00:00'))  #remove the :00:00 that was at the end of some vals\n",
    "uniprot_clean['Taxon'] = uniprot_clean.loc[:,'Taxon'].apply(pd.to_numeric, errors='ignore') #tried with astype but it didnt accept errors.\n",
    "#this leaves some vals as strings but thats okay because they will get nixed anyways\n",
    "uniprot_clean['Species'] = uniprot_clean['Species'].map(lambda x: str(x)[2:])  #remove the N= that was at the start of all vals\n"
   ]
  },
  {
   "cell_type": "code",
   "execution_count": 550,
   "metadata": {
    "collapsed": false,
    "scrolled": true
   },
   "outputs": [],
   "source": [
    "#getting only the insects from uniprot id's\n",
    "taxon = insects.loc[:,'Taxon'].tolist()\n",
    "uniprot_insects = uniprot_clean[uniprot_clean['Taxon'].isin(taxon)]   #i tested this with list comprehension so they are def the same length\n"
   ]
  },
  {
   "cell_type": "code",
   "execution_count": 570,
   "metadata": {
    "collapsed": false
   },
   "outputs": [
    {
     "data": {
      "text/plain": [
       "['Acromyrmex echinatior',\n",
       " 'Acyrthosiphon pisum',\n",
       " 'Aedes aegypti',\n",
       " 'Anopheles darlingi',\n",
       " 'Anopheles gambiae',\n",
       " 'Anopheles sinensis',\n",
       " 'Apis cerana',\n",
       " 'Atta cephalotes',\n",
       " 'Bactrocera cucurbitae',\n",
       " 'Bactrocera dorsalis',\n",
       " 'Bactrocera latifrons',\n",
       " 'Blattella germanica',\n",
       " 'Bombyx mandarina',\n",
       " 'Bombyx mori',\n",
       " 'Camponotus floridanus',\n",
       " 'Cerapachys biroi',\n",
       " 'Ceratitis capitata',\n",
       " 'Cimex lectularius',\n",
       " 'Cnaphalocrocis medinalis',\n",
       " 'Culex pipiens pallens',\n",
       " 'Culex quinquefasciatus',\n",
       " 'Danaus plexippus',\n",
       " 'Dendroctonus ponderosae',\n",
       " 'Diaphorina citri',\n",
       " 'Drosophila ananassae',\n",
       " 'Drosophila busckii',\n",
       " 'Drosophila grimshawi',\n",
       " 'Drosophila melanogaster',\n",
       " 'Drosophila persimilis',\n",
       " 'Drosophila pseudoobscura pseudoobscura',\n",
       " 'Drosophila sechellia',\n",
       " 'Drosophila virilis',\n",
       " 'Drosophila yakuba',\n",
       " 'Harpegnathos saltator',\n",
       " 'Heliothis virescens',\n",
       " 'Helicoverpa zea',\n",
       " 'Liposcelis bostrychophila',\n",
       " 'Lucilia cuprina',\n",
       " 'Lygus hesperus',\n",
       " 'Nasonia vitripennis',\n",
       " 'Nilaparvata lugens',\n",
       " 'Ophiostoma piceae (strain UAMH 11346)',\n",
       " 'Papilio machaon',\n",
       " 'Parastrongyloides trichosuri',\n",
       " 'Pediculus humanus subsp. corporis',\n",
       " 'Periplaneta americana',\n",
       " 'Plutella xylostella',\n",
       " 'Rhodnius prolixus',\n",
       " 'Solenopsis invicta',\n",
       " 'Triatoma infestans',\n",
       " 'Zootermopsis nevadensis']"
      ]
     },
     "execution_count": 570,
     "metadata": {},
     "output_type": "execute_result"
    }
   ],
   "source": [
    "# time to parse fasta file. There are some 'none's at the bottom but I drop them for now, since they wont be in the uniprot list I dont think\n",
    "species = []\n",
    "for line in fasta:\n",
    "    if '>' in line:\n",
    "        #line= line.replace('_','|')\n",
    "        line = line.split('=')\n",
    "        try:\n",
    "            species.append(line[1][:-3])\n",
    "        except IndexError:\n",
    "            pass\n",
    "insect_species_in_fasta = []\n",
    "for line in uniprot_insects[\"Species\"]:\n",
    "    if line in species:\n",
    "        insect_species_in_fasta.append(line)\n",
    "(insect_species_in_fasta)"
   ]
  },
  {
   "cell_type": "code",
   "execution_count": 571,
   "metadata": {
    "collapsed": false,
    "scrolled": true
   },
   "outputs": [],
   "source": [
    "o = open('insects_in_fasta_file_final.txt', 'w')\n",
    "for insect in insect_species_in_fasta:\n",
    "    for c, line in enumerate(fasta):\n",
    "        if insect in line:\n",
    "            o.write(fasta[c] + '\\n' + fasta[c+1] + '\\n')\n",
    "            \n",
    "o.close()"
   ]
  },
  {
   "cell_type": "code",
   "execution_count": null,
   "metadata": {
    "collapsed": false
   },
   "outputs": [],
   "source": []
  },
  {
   "cell_type": "code",
   "execution_count": null,
   "metadata": {
    "collapsed": false,
    "scrolled": false
   },
   "outputs": [],
   "source": []
  },
  {
   "cell_type": "code",
   "execution_count": null,
   "metadata": {
    "collapsed": false
   },
   "outputs": [],
   "source": []
  },
  {
   "cell_type": "code",
   "execution_count": null,
   "metadata": {
    "collapsed": true
   },
   "outputs": [],
   "source": []
  }
 ],
 "metadata": {
  "kernelspec": {
   "display_name": "Python 2",
   "language": "python",
   "name": "python2"
  },
  "language_info": {
   "codemirror_mode": {
    "name": "ipython",
    "version": 2
   },
   "file_extension": ".py",
   "mimetype": "text/x-python",
   "name": "python",
   "nbconvert_exporter": "python",
   "pygments_lexer": "ipython2",
   "version": "2.7.13"
  }
 },
 "nbformat": 4,
 "nbformat_minor": 2
}
